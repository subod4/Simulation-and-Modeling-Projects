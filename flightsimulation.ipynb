{
  "nbformat": 4,
  "nbformat_minor": 0,
  "metadata": {
    "colab": {
      "provenance": [],
      "toc_visible": true,
      "authorship_tag": "ABX9TyNZ36ssJYTfQBYzSwn4L7Nq",
      "include_colab_link": true
    },
    "kernelspec": {
      "name": "python3",
      "display_name": "Python 3"
    },
    "language_info": {
      "name": "python"
    }
  },
  "cells": [
    {
      "cell_type": "markdown",
      "metadata": {
        "id": "view-in-github",
        "colab_type": "text"
      },
      "source": [
        "<a href=\"https://colab.research.google.com/github/subod4/Simulation-and-Modeling-Projects/blob/main/flightsimulation.ipynb\" target=\"_parent\"><img src=\"https://colab.research.google.com/assets/colab-badge.svg\" alt=\"Open In Colab\"/></a>"
      ]
    },
    {
      "cell_type": "code",
      "source": [
        "!pip install simpy"
      ],
      "metadata": {
        "colab": {
          "base_uri": "https://localhost:8080/"
        },
        "id": "jOQRQ2ZBvIXS",
        "outputId": "2772b9c1-610d-4eed-8435-b6b99a434341"
      },
      "execution_count": 2,
      "outputs": [
        {
          "output_type": "stream",
          "name": "stdout",
          "text": [
            "Collecting simpy\n",
            "  Downloading simpy-4.1.1-py3-none-any.whl.metadata (6.1 kB)\n",
            "Downloading simpy-4.1.1-py3-none-any.whl (27 kB)\n",
            "Installing collected packages: simpy\n",
            "Successfully installed simpy-4.1.1\n"
          ]
        }
      ]
    },
    {
      "cell_type": "code",
      "execution_count": 3,
      "metadata": {
        "colab": {
          "base_uri": "https://localhost:8080/",
          "height": 1000
        },
        "id": "B_LHYX9OvAOx",
        "outputId": "88bce3bf-901a-4993-c48e-41514c570a38"
      },
      "outputs": [
        {
          "output_type": "stream",
          "name": "stdout",
          "text": [
            "Flight 1 arrived at 0.00 minutes\n",
            "Flight 1 started service after waiting 0.00 minutes\n",
            "Flight 1 finished service at 5.25 minutes\n",
            "Flight 2 arrived at 10.20 minutes\n",
            "Flight 2 started service after waiting 0.00 minutes\n",
            "Flight 3 arrived at 13.42 minutes\n",
            "Flight 3 started service after waiting 0.00 minutes\n",
            "Flight 2 finished service at 17.43 minutes\n",
            "Flight 3 finished service at 25.18 minutes\n",
            "Flight 4 arrived at 26.75 minutes\n",
            "Flight 4 started service after waiting 0.00 minutes\n",
            "Flight 4 finished service at 32.62 minutes\n",
            "Flight 5 arrived at 49.03 minutes\n",
            "Flight 5 started service after waiting 0.00 minutes\n",
            "Flight 5 finished service at 54.32 minutes\n",
            "Flight 6 arrived at 54.51 minutes\n",
            "Flight 6 started service after waiting 0.00 minutes\n",
            "Flight 7 arrived at 56.97 minutes\n",
            "Flight 7 started service after waiting 0.00 minutes\n",
            "Flight 8 arrived at 57.24 minutes\n",
            "Flight 7 finished service at 63.96 minutes\n",
            "Flight 8 started service after waiting 6.72 minutes\n",
            "Flight 6 finished service at 64.56 minutes\n",
            "Flight 9 arrived at 67.74 minutes\n",
            "Flight 9 started service after waiting 0.00 minutes\n",
            "Flight 10 arrived at 70.23 minutes\n",
            "Flight 8 finished service at 74.41 minutes\n",
            "Flight 10 started service after waiting 4.18 minutes\n",
            "Flight 9 finished service at 78.63 minutes\n",
            "Flight 10 finished service at 79.48 minutes\n",
            "Flight 11 arrived at 86.80 minutes\n",
            "Flight 11 started service after waiting 0.00 minutes\n",
            "Flight 11 finished service at 98.79 minutes\n",
            "Flight 12 arrived at 103.19 minutes\n",
            "Flight 12 started service after waiting 0.00 minutes\n",
            "Flight 13 arrived at 107.35 minutes\n",
            "Flight 13 started service after waiting 0.00 minutes\n",
            "Flight 12 finished service at 109.75 minutes\n",
            "Flight 13 finished service at 115.72 minutes\n",
            "Flight 14 arrived at 138.87 minutes\n",
            "Flight 14 started service after waiting 0.00 minutes\n",
            "Flight 15 arrived at 139.84 minutes\n",
            "Flight 15 started service after waiting 0.00 minutes\n",
            "Flight 14 finished service at 144.84 minutes\n",
            "Flight 15 finished service at 150.88 minutes\n",
            "Flight 16 arrived at 158.65 minutes\n",
            "Flight 16 started service after waiting 0.00 minutes\n",
            "Flight 16 finished service at 170.94 minutes\n",
            "Flight 17 arrived at 175.10 minutes\n",
            "Flight 17 started service after waiting 0.00 minutes\n",
            "Flight 18 arrived at 182.79 minutes\n",
            "Flight 18 started service after waiting 0.00 minutes\n",
            "Flight 19 arrived at 187.55 minutes\n",
            "Flight 17 finished service at 189.84 minutes\n",
            "Flight 19 started service after waiting 2.29 minutes\n",
            "Flight 18 finished service at 193.31 minutes\n",
            "Flight 19 finished service at 201.02 minutes\n",
            "Flight 20 arrived at 205.23 minutes\n",
            "Flight 20 started service after waiting 0.00 minutes\n",
            "Flight 20 finished service at 216.00 minutes\n",
            "Flight 21 arrived at 225.01 minutes\n",
            "Flight 21 started service after waiting 0.00 minutes\n",
            "Flight 21 finished service at 230.47 minutes\n",
            "Flight 22 arrived at 237.21 minutes\n",
            "Flight 22 started service after waiting 0.00 minutes\n",
            "Flight 23 arrived at 239.79 minutes\n",
            "Flight 23 started service after waiting 0.00 minutes\n",
            "Flight 24 arrived at 240.62 minutes\n",
            "Flight 25 arrived at 241.69 minutes\n",
            "Flight 26 arrived at 244.95 minutes\n",
            "Flight 22 finished service at 245.10 minutes\n",
            "Flight 24 started service after waiting 4.48 minutes\n",
            "Flight 23 finished service at 247.12 minutes\n",
            "Flight 25 started service after waiting 5.43 minutes\n",
            "Flight 24 finished service at 253.75 minutes\n",
            "Flight 26 started service after waiting 8.80 minutes\n",
            "Flight 27 arrived at 255.04 minutes\n",
            "Flight 25 finished service at 255.82 minutes\n",
            "Flight 27 started service after waiting 0.78 minutes\n",
            "Flight 28 arrived at 258.15 minutes\n",
            "Flight 26 finished service at 260.84 minutes\n",
            "Flight 28 started service after waiting 2.69 minutes\n",
            "Flight 29 arrived at 268.59 minutes\n",
            "Flight 27 finished service at 270.19 minutes\n",
            "Flight 29 started service after waiting 1.60 minutes\n",
            "Flight 30 arrived at 270.47 minutes\n",
            "Flight 28 finished service at 271.94 minutes\n",
            "Flight 30 started service after waiting 1.47 minutes\n",
            "Flight 30 finished service at 280.73 minutes\n",
            "Flight 29 finished service at 282.48 minutes\n"
          ]
        },
        {
          "output_type": "display_data",
          "data": {
            "text/plain": [
              "<Figure size 640x480 with 1 Axes>"
            ],
            "image/png": "[encoded data removed]"
          },
          "metadata": {}
        }
      ],
      "source": [
        "import simpy\n",
        "import random\n",
        "import matplotlib.pyplot as plt\n",
        "\n",
        "# Parameters\n",
        "RANDOM_SEED = 42\n",
        "NUM_FLIGHTS = 30\n",
        "INTERARRIVAL_TIME = 10  # Average time between flight arrivals (minutes)\n",
        "SERVICE_TIME = [5, 15]  # Min and max time for ground handling\n",
        "\n",
        "random.seed(RANDOM_SEED)\n",
        "\n",
        "# Data collection\n",
        "arrival_times = []\n",
        "wait_times = []\n",
        "\n",
        "\n",
        "def flight_process(env, name, ground_handling):\n",
        "    \"\"\"Simulate the flight's lifecycle.\"\"\"\n",
        "    arrival_time = env.now\n",
        "    arrival_times.append(arrival_time)\n",
        "    print(f\"{name} arrived at {arrival_time:.2f} minutes\")\n",
        "\n",
        "    with ground_handling.request() as request:\n",
        "        yield request\n",
        "        wait = env.now - arrival_time\n",
        "        wait_times.append(wait)\n",
        "        print(f\"{name} started service after waiting {wait:.2f} minutes\")\n",
        "\n",
        "        service_duration = random.uniform(*SERVICE_TIME)\n",
        "        yield env.timeout(service_duration)\n",
        "        print(f\"{name} finished service at {env.now:.2f} minutes\")\n",
        "\n",
        "\n",
        "def flight_generator(env, ground_handling):\n",
        "    \"\"\"Generate flights at regular intervals.\"\"\"\n",
        "    for i in range(NUM_FLIGHTS):\n",
        "        env.process(flight_process(env, f\"Flight {i+1}\", ground_handling))\n",
        "        yield env.timeout(random.expovariate(1.0 / INTERARRIVAL_TIME))\n",
        "\n",
        "\n",
        "# Run the simulation\n",
        "env = simpy.Environment()\n",
        "ground_handling = simpy.Resource(env, capacity=2)  # 2 ground handling teams\n",
        "env.process(flight_generator(env, ground_handling))\n",
        "env.run()\n",
        "\n",
        "# Plot the wait time distribution\n",
        "plt.hist(wait_times, bins=10, color='skyblue', edgecolor='black')\n",
        "plt.title(\"Flight Wait Time Distribution\")\n",
        "plt.xlabel(\"Wait Time (minutes)\")\n",
        "plt.ylabel(\"Number of Flights\")\n",
        "plt.show()\n"
      ]
    }
  ]
}